{
 "cells": [
  {
   "cell_type": "markdown",
   "metadata": {},
   "source": [
    "## Метрики качества классификации"
   ]
  },
  {
   "cell_type": "code",
   "execution_count": 1,
   "metadata": {},
   "outputs": [],
   "source": [
    "import pandas as pd\n",
    "\n",
    "from sklearn.metrics import accuracy_score, precision_score, recall_score, f1_score\n",
    "from sklearn.metrics import roc_auc_score, precision_recall_curve, PrecisionRecallDisplay\n",
    "from sklearn.metrics import confusion_matrix\n",
    "\n",
    "import matplotlib.pyplot as plt\n",
    "import seaborn as sns"
   ]
  },
  {
   "cell_type": "code",
   "execution_count": 2,
   "metadata": {},
   "outputs": [],
   "source": [
    "def write_answer(filename, answer):\n",
    "    \n",
    "    with open(filename, 'w') as fout:\n",
    "        \n",
    "        fout.write(str(answer))\n",
    "        fout.close()"
   ]
  },
  {
   "cell_type": "markdown",
   "metadata": {},
   "source": [
    "### Введение\n",
    "\n",
    "В задачах классификации может быть много особенностей, влияющих на подсчет качества: различные цены ошибок, несбалансированность классов и т.д. Из-за этого существует большое количество метрик качества — каждая из них рассчитана на определенное сочетание свойств задачи и требований к ее решению.\n",
    "\n",
    "Меры качества классификации можно разбить на две большие группы: предназначенные для алгоритмов, выдающих номера классов, и для алгоритмов, выдающих оценки принадлежности к классам. К первой группе относятся доля правильных ответов, точность, полнота, F-мера. Ко второй — площади под ROC- или PR-кривой.\n",
    "\n",
    "### Реализация в sklearn\n",
    "\n",
    "Различные метрики качества реализованы в пакете <code>sklearn.metrics</code>. Конкретные функции указаны в инструкции по выполнению задания.\n",
    "\n",
    "### Материалы\n",
    "\n",
    "- [Подробнее о метриках качества](https://github.com/esokolov/ml-course-hse/blob/master/2016-fall/lecture-notes/lecture04-linclass.pdf)\n",
    "- [Задачи по AUC-ROC](https://github.com/esokolov/ml-course-hse/blob/master/2016-fall/seminars/sem05-linclass.pdf)"
   ]
  },
  {
   "cell_type": "markdown",
   "metadata": {},
   "source": [
    "#### 1. Загрузите файл classification.csv. В нем записаны истинные классы объектов выборки (колонка true) и ответы некоторого классификатора (колонка pred)."
   ]
  },
  {
   "cell_type": "code",
   "execution_count": 3,
   "metadata": {},
   "outputs": [
    {
     "data": {
      "text/html": [
       "<div>\n",
       "<style scoped>\n",
       "    .dataframe tbody tr th:only-of-type {\n",
       "        vertical-align: middle;\n",
       "    }\n",
       "\n",
       "    .dataframe tbody tr th {\n",
       "        vertical-align: top;\n",
       "    }\n",
       "\n",
       "    .dataframe thead th {\n",
       "        text-align: right;\n",
       "    }\n",
       "</style>\n",
       "<table border=\"1\" class=\"dataframe\">\n",
       "  <thead>\n",
       "    <tr style=\"text-align: right;\">\n",
       "      <th></th>\n",
       "      <th>true</th>\n",
       "      <th>pred</th>\n",
       "    </tr>\n",
       "  </thead>\n",
       "  <tbody>\n",
       "    <tr>\n",
       "      <th>0</th>\n",
       "      <td>1</td>\n",
       "      <td>0</td>\n",
       "    </tr>\n",
       "    <tr>\n",
       "      <th>1</th>\n",
       "      <td>1</td>\n",
       "      <td>1</td>\n",
       "    </tr>\n",
       "    <tr>\n",
       "      <th>2</th>\n",
       "      <td>1</td>\n",
       "      <td>1</td>\n",
       "    </tr>\n",
       "    <tr>\n",
       "      <th>3</th>\n",
       "      <td>0</td>\n",
       "      <td>0</td>\n",
       "    </tr>\n",
       "    <tr>\n",
       "      <th>4</th>\n",
       "      <td>1</td>\n",
       "      <td>1</td>\n",
       "    </tr>\n",
       "  </tbody>\n",
       "</table>\n",
       "</div>"
      ],
      "text/plain": [
       "   true  pred\n",
       "0     1     0\n",
       "1     1     1\n",
       "2     1     1\n",
       "3     0     0\n",
       "4     1     1"
      ]
     },
     "execution_count": 3,
     "metadata": {},
     "output_type": "execute_result"
    }
   ],
   "source": [
    "classification = pd.read_csv('classification.csv', header=0)\n",
    "classification.head()"
   ]
  },
  {
   "cell_type": "markdown",
   "metadata": {},
   "source": [
    "#### 2. Заполните таблицу ошибок классификации:\n",
    "\n",
    "||Actual Positive|Actual Negative|\n",
    "|:--------:|:-------:|:---------------:|\n",
    "|Predicted Positive|TP|FP|\n",
    "|Predicted Negative\t|FN|TN|\n",
    "\n",
    "Для этого подсчитайте величины TP, FP, FN и TN согласно их определениям. Например, FP — это количество объектов, имеющих класс 0, но отнесенных алгоритмом к классу 1. Ответ в данном вопросе — четыре числа через пробел."
   ]
  },
  {
   "cell_type": "code",
   "execution_count": 4,
   "metadata": {},
   "outputs": [
    {
     "data": {
      "text/plain": [
       "<AxesSubplot:>"
      ]
     },
     "execution_count": 4,
     "metadata": {},
     "output_type": "execute_result"
    },
    {
     "data": {
      "image/png": "[encoded data removed]",
      "text/plain": [
       "<Figure size 432x288 with 2 Axes>"
      ]
     },
     "metadata": {
      "needs_background": "light"
     },
     "output_type": "display_data"
    }
   ],
   "source": [
    "tn, fp, fn, tp = confusion_matrix(classification['true'], classification['pred']).ravel()\n",
    "conf_matrix = confusion_matrix(classification['true'], classification['pred'])\n",
    "sns.heatmap(conf_matrix, annot=True)"
   ]
  },
  {
   "cell_type": "code",
   "execution_count": 5,
   "metadata": {},
   "outputs": [
    {
     "data": {
      "text/plain": [
       "(64, 34, 59, 43)"
      ]
     },
     "execution_count": 5,
     "metadata": {},
     "output_type": "execute_result"
    }
   ],
   "source": [
    "tn, fp, fn, tp"
   ]
  },
  {
   "cell_type": "code",
   "execution_count": 6,
   "metadata": {},
   "outputs": [],
   "source": [
    "write_answer('submission_metrics_1.txt', f'{tp} {fp} {fn} {tn}')"
   ]
  },
  {
   "cell_type": "markdown",
   "metadata": {},
   "source": [
    "#### 3. Посчитайте основные метрики качества классификатора:\n",
    "\n",
    "- Accuracy (доля верно угаданных) — <code>sklearn.metrics.accuracy_score</code>\n",
    "- Precision (точность) — <code>sklearn.metrics.precision_score</code>\n",
    "- Recall (полнота) — <code>sklearn.metrics.recall_score</code>\n",
    "- F-мера — <code>sklearn.metrics.f1_score</code>\n",
    "\n",
    "В качестве ответа укажите эти четыре числа через пробел."
   ]
  },
  {
   "cell_type": "code",
   "execution_count": 7,
   "metadata": {},
   "outputs": [
    {
     "name": "stdout",
     "output_type": "stream",
     "text": [
      "Accuracy: 0.54, Precision: 0.56, Recall: 0.42, F1-score: 0.48\n"
     ]
    }
   ],
   "source": [
    "accuracy = accuracy_score(classification['true'], classification['pred'])\n",
    "precision = precision_score(classification['true'], classification['pred'])\n",
    "recall = recall_score(classification['true'], classification['pred'])\n",
    "f1 = f1_score(classification['true'], classification['pred'])\n",
    "\n",
    "print(f'Accuracy: {accuracy:.2f}, Precision: {precision:.2f}, Recall: {recall:.2f}, F1-score: {f1:.2f}')\n",
    "\n",
    "write_answer('submission_metrics_2.txt', f'{accuracy} {precision} {recall} {f1}')"
   ]
  },
  {
   "cell_type": "markdown",
   "metadata": {},
   "source": [
    "#### 4. Имеется четыре обученных классификатора. В файле scores.csv записаны истинные классы и значения степени принадлежности положительному классу для каждого классификатора на некоторой выборке:\n",
    "\n",
    "- для логистической регрессии — вероятность положительного класса (колонка score_logreg),\n",
    "- для SVM — отступ от разделяющей поверхности (колонка score_svm),\n",
    "- для метрического алгоритма — взвешенная сумма классов соседей (колонка score_knn),\n",
    "- для решающего дерева — доля положительных объектов в листе (колонка score_tree).\n",
    "\n",
    "Загрузите этот файл."
   ]
  },
  {
   "cell_type": "code",
   "execution_count": 8,
   "metadata": {},
   "outputs": [
    {
     "data": {
      "text/html": [
       "<div>\n",
       "<style scoped>\n",
       "    .dataframe tbody tr th:only-of-type {\n",
       "        vertical-align: middle;\n",
       "    }\n",
       "\n",
       "    .dataframe tbody tr th {\n",
       "        vertical-align: top;\n",
       "    }\n",
       "\n",
       "    .dataframe thead th {\n",
       "        text-align: right;\n",
       "    }\n",
       "</style>\n",
       "<table border=\"1\" class=\"dataframe\">\n",
       "  <thead>\n",
       "    <tr style=\"text-align: right;\">\n",
       "      <th></th>\n",
       "      <th>true</th>\n",
       "      <th>score_logreg</th>\n",
       "      <th>score_svm</th>\n",
       "      <th>score_knn</th>\n",
       "      <th>score_tree</th>\n",
       "    </tr>\n",
       "  </thead>\n",
       "  <tbody>\n",
       "    <tr>\n",
       "      <th>0</th>\n",
       "      <td>0</td>\n",
       "      <td>0.683832</td>\n",
       "      <td>0.145976</td>\n",
       "      <td>0.787063</td>\n",
       "      <td>0.500000</td>\n",
       "    </tr>\n",
       "    <tr>\n",
       "      <th>1</th>\n",
       "      <td>1</td>\n",
       "      <td>0.801966</td>\n",
       "      <td>0.239511</td>\n",
       "      <td>1.000000</td>\n",
       "      <td>0.833333</td>\n",
       "    </tr>\n",
       "    <tr>\n",
       "      <th>2</th>\n",
       "      <td>0</td>\n",
       "      <td>0.382315</td>\n",
       "      <td>-0.245701</td>\n",
       "      <td>0.000000</td>\n",
       "      <td>0.000000</td>\n",
       "    </tr>\n",
       "    <tr>\n",
       "      <th>3</th>\n",
       "      <td>1</td>\n",
       "      <td>0.506797</td>\n",
       "      <td>-0.137058</td>\n",
       "      <td>0.000000</td>\n",
       "      <td>0.105263</td>\n",
       "    </tr>\n",
       "    <tr>\n",
       "      <th>4</th>\n",
       "      <td>1</td>\n",
       "      <td>0.488781</td>\n",
       "      <td>-0.154148</td>\n",
       "      <td>0.000000</td>\n",
       "      <td>0.105263</td>\n",
       "    </tr>\n",
       "  </tbody>\n",
       "</table>\n",
       "</div>"
      ],
      "text/plain": [
       "   true  score_logreg  score_svm  score_knn  score_tree\n",
       "0     0      0.683832   0.145976   0.787063    0.500000\n",
       "1     1      0.801966   0.239511   1.000000    0.833333\n",
       "2     0      0.382315  -0.245701   0.000000    0.000000\n",
       "3     1      0.506797  -0.137058   0.000000    0.105263\n",
       "4     1      0.488781  -0.154148   0.000000    0.105263"
      ]
     },
     "execution_count": 8,
     "metadata": {},
     "output_type": "execute_result"
    }
   ],
   "source": [
    "scores = pd.read_csv('scores.csv')\n",
    "scores.head()"
   ]
  },
  {
   "cell_type": "markdown",
   "metadata": {},
   "source": [
    "#### 5. Посчитайте площадь под ROC-кривой для каждого классификатора. \n",
    "\n",
    "Какой классификатор имеет наибольшее значение метрики AUC-ROC (укажите название столбца)? Воспользуйтесь функцией <code>sklearn.metrics.roc_auc_score</code>."
   ]
  },
  {
   "cell_type": "code",
   "execution_count": 9,
   "metadata": {},
   "outputs": [
    {
     "name": "stdout",
     "output_type": "stream",
     "text": [
      "ROC-AUCs - LogReg: 0.719, SVM: 0.709, kNN: 0.635, Dec Tree: 0.692\n"
     ]
    }
   ],
   "source": [
    "logreg = roc_auc_score(scores['true'], scores['score_logreg'])\n",
    "svm = roc_auc_score(scores['true'], scores['score_svm'])\n",
    "knn = roc_auc_score(scores['true'], scores['score_knn'])\n",
    "tree = roc_auc_score(scores['true'], scores['score_tree'])\n",
    "\n",
    "print(f'ROC-AUCs - LogReg: {logreg:.3f}, SVM: {svm:.3f}, kNN: {knn:.3f}, Dec Tree: {tree:.3f}')\n",
    "\n",
    "write_answer('submission_metrics_3.txt', 'score_logreg')"
   ]
  },
  {
   "cell_type": "markdown",
   "metadata": {},
   "source": [
    "Логистическая регрессия имеет самый высокий показатель AUC-ROC"
   ]
  },
  {
   "cell_type": "markdown",
   "metadata": {},
   "source": [
    "#### 6. Какой классификатор достигает наибольшей точности (Precision) при полноте (Recall) не менее 70% ? \n",
    "\n",
    "Чтобы получить ответ на этот вопрос, найдите все точки precision-recall-кривой с помощью функции <code>sklearn.metrics.precision_recall_curve</code>. Она возвращает три массива: precision, recall, thresholds. В них записаны точность и полнота при определенных порогах, указанных в массиве thresholds. Найдите максимальной значение точности среди тех записей, для которых полнота не меньше, чем 0.7.\n",
    "\n",
    "Если ответом является нецелое число, то целую и дробную часть необходимо разграничивать точкой, например, 0.42. При необходимости округляйте дробную часть до двух знаков."
   ]
  },
  {
   "cell_type": "code",
   "execution_count": 10,
   "metadata": {},
   "outputs": [],
   "source": [
    "lr_pr, lr_rec, lr_thr = precision_recall_curve(scores['true'], scores['score_logreg'])\n",
    "svm_pr, svm_rec, svm_thr = precision_recall_curve(scores['true'], scores['score_svm'])\n",
    "knn_pr, knn_rec, knn_thr = precision_recall_curve(scores['true'], scores['score_knn'])\n",
    "tree_pr, tree_rec, tree_thr = precision_recall_curve(scores['true'], scores['score_tree'])"
   ]
  },
  {
   "cell_type": "code",
   "execution_count": 11,
   "metadata": {},
   "outputs": [
    {
     "data": {
      "image/png": "[encoded data removed]",
      "text/plain": [
       "<Figure size 432x288 with 1 Axes>"
      ]
     },
     "metadata": {
      "needs_background": "light"
     },
     "output_type": "display_data"
    }
   ],
   "source": [
    "lr_pr_curve = PrecisionRecallDisplay(precision=lr_pr, recall=lr_rec).plot()"
   ]
  },
  {
   "cell_type": "code",
   "execution_count": 12,
   "metadata": {},
   "outputs": [
    {
     "name": "stdout",
     "output_type": "stream",
     "text": [
      "Clf precision scores:- LogReg: 0.62, SVM: 0.62, kNN: 0.59, DecTree: 0.65\n"
     ]
    }
   ],
   "source": [
    "lr_max_prec = list(\n",
    "    filter(lambda x: x[1] >= 0.7, list(zip(lr_pr, lr_rec))))[-1][0]\n",
    "svm_max_prec = list(\n",
    "    filter(lambda x: x[1] >= 0.7, list(zip(svm_pr, svm_rec))))[-1][0]\n",
    "knn_max_prec = list(\n",
    "    filter(lambda x: x[1] >= 0.7, list(zip(knn_pr, knn_rec))))[-1][0]\n",
    "tree_max_prec = list(\n",
    "    filter(lambda x: x[1] >= 0.7, list(zip(tree_pr, tree_rec))))[-1][0]\n",
    "\n",
    "print(f'Clf precision scores:- LogReg: {lr_max_prec:.2f}, SVM: {svm_max_prec:.2f}, kNN: {knn_max_prec:.2f}, DecTree: {tree_max_prec:.2f}')"
   ]
  },
  {
   "cell_type": "code",
   "execution_count": 13,
   "metadata": {},
   "outputs": [],
   "source": [
    "write_answer('submission_metrics_4.txt', 'score_tree')"
   ]
  },
  {
   "cell_type": "markdown",
   "metadata": {},
   "source": [
    "Наилучшую точность при таком ограничении показывает решающее дерево: precision = 0.65"
   ]
  }
 ],
 "metadata": {
  "kernelspec": {
   "display_name": "Python 3",
   "language": "python",
   "name": "python3"
  },
  "language_info": {
   "codemirror_mode": {
    "name": "ipython",
    "version": 3
   },
   "file_extension": ".py",
   "mimetype": "text/x-python",
   "name": "python",
   "nbconvert_exporter": "python",
   "pygments_lexer": "ipython3",
   "version": "3.8.5"
  }
 },
 "nbformat": 4,
 "nbformat_minor": 4
}
